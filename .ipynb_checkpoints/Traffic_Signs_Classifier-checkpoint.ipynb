{
 "cells": [
  {
   "cell_type": "code",
   "execution_count": 1,
   "id": "d731743b",
   "metadata": {},
   "outputs": [
    {
     "name": "stdout",
     "output_type": "stream",
     "text": [
      "Requirement already satisfied: tensorflow in c:\\pyver\\py_3_9_0\\lib\\site-packages (2.9.1)\n",
      "Requirement already satisfied: keras in c:\\pyver\\py_3_9_0\\lib\\site-packages (2.9.0)\n",
      "Requirement already satisfied: sklearn in c:\\pyver\\py_3_9_0\\lib\\site-packages (0.0)\n",
      "Requirement already satisfied: matplotlib in c:\\pyver\\py_3_9_0\\lib\\site-packages (3.5.2)\n",
      "Requirement already satisfied: pandas in c:\\pyver\\py_3_9_0\\lib\\site-packages (1.4.3)\n",
      "Note: you may need to restart the kernel to use updated packages.\n"
     ]
    },
    {
     "name": "stderr",
     "output_type": "stream",
     "text": [
      "ERROR: Could not find a version that satisfies the requirement pil (from versions: none)\n",
      "ERROR: No matching distribution found for pil\n",
      "WARNING: You are using pip version 20.2.3; however, version 22.2 is available.\n",
      "You should consider upgrading via the 'C:\\pyver\\py_3_9_0\\python.exe -m pip install --upgrade pip' command.\n"
     ]
    }
   ],
   "source": [
    "pip install tensorflow keras sklearn matplotlib pandas pil"
   ]
  },
  {
   "cell_type": "code",
   "execution_count": 2,
   "id": "410cdb38",
   "metadata": {},
   "outputs": [],
   "source": [
    "import numpy as np \n",
    "import pandas as pd \n",
    "import matplotlib.pyplot as plt\n",
    "import cv2\n",
    "import tensorflow as tf\n",
    "from PIL import Image\n",
    "import os\n",
    "from sklearn.model_selection import train_test_split\n",
    "from keras.utils import to_categorical\n",
    "from keras.models import Sequential, load_model\n",
    "from keras.layers import Conv2D, MaxPool2D, Dense, Flatten, Dropout"
   ]
  },
  {
   "cell_type": "code",
   "execution_count": 3,
   "id": "b147c5ae",
   "metadata": {},
   "outputs": [],
   "source": [
    "data =[]\n",
    "labels = []\n",
    "classes = 43\n",
    "cur_path = os.getcwd()\n",
    "\n",
    "for i in range(classes):\n",
    "    \n",
    "    path = os.path.join(cur_path, \"train\", str(i))\n",
    "    images = os.listdir(path)\n",
    "    \n",
    "    for a in images:\n",
    "        \n",
    "        try:\n",
    "            image = Image.open(path + \"\\\\\"+ a)\n",
    "            image = image.resize((30,30))\n",
    "            image = np.array(image)\n",
    "            data.append(image)\n",
    "            labels.append(i)\n",
    "        except:\n",
    "            print(\"Error Loading The Image\")\n",
    "data = np.array(data)\n",
    "labels = np.array(labels)"
   ]
  },
  {
   "cell_type": "markdown",
   "id": "8ad86bf9",
   "metadata": {},
   "source": [
    "Finally, we have stored all the images and their labels into lists (data and labels)."
   ]
  },
  {
   "cell_type": "markdown",
   "id": "9b419767",
   "metadata": {},
   "source": [
    "We need to convert the list into numpy arrays for feeding to the model."
   ]
  },
  {
   "cell_type": "code",
   "execution_count": 4,
   "id": "b2b3479f",
   "metadata": {},
   "outputs": [
    {
     "name": "stdout",
     "output_type": "stream",
     "text": [
      "(39209, 30, 30, 3) (39209,)\n",
      "(31367, 30, 30, 3) (7842, 30, 30, 3) (31367,) (7842,)\n"
     ]
    }
   ],
   "source": [
    "print(data.shape, labels.shape)\n",
    "\n",
    "X_train, X_test, y_train, y_test = train_test_split(data,labels, test_size=0.20,random_state = 20)\n",
    "\n",
    "print(X_train.shape, X_test.shape, y_train.shape,y_test.shape)\n",
    "\n",
    "y_train = to_categorical(y_train, 43)\n",
    "y_test = to_categorical(y_test, 43)"
   ]
  },
  {
   "cell_type": "markdown",
   "id": "a4462cf1",
   "metadata": {},
   "source": [
    "### Step 2: Build a CNN model"
   ]
  },
  {
   "cell_type": "markdown",
   "id": "0f85c96e",
   "metadata": {},
   "source": [
    "**The architecture of our model is:**\n",
    "\n",
    "- 2 Conv2D layer (filter=32, kernel_size=(5,5), activation=”relu”)\n",
    "- MaxPool2D layer ( pool_size=(2,2))\n",
    "- Dropout layer (rate=0.25)\n",
    "- 2 Conv2D layer (filter=64, kernel_size=(3,3), activation=”relu”)\n",
    "- MaxPool2D layer ( pool_size=(2,2))\n",
    "- Dropout layer (rate=0.25)\n",
    "- Flatten layer to squeeze the layers into 1 dimension\n",
    "- Dense Fully connected layer (256 nodes, activation=”relu”)\n",
    "- Dropout layer (rate=0.5)\n",
    "- Dense layer (43 nodes, activation=”softmax”)"
   ]
  },
  {
   "cell_type": "code",
   "execution_count": 5,
   "id": "11d532a6",
   "metadata": {},
   "outputs": [],
   "source": [
    "model = Sequential()\n",
    "model.add(Conv2D(filters=32 ,kernel_size=(5,5) ,activation=\"relu\", input_shape=X_train.shape[1:]))\n",
    "model.add(Conv2D(filters=32 ,kernel_size=(5,5) ,activation=\"relu\"))\n",
    "model.add(MaxPool2D( pool_size=(2,2)))\n",
    "model.add(Dropout(rate=0.25))\n",
    "model.add(Conv2D(filters=64, kernel_size=(3,3), activation=\"relu\"))\n",
    "model.add(Conv2D(filters=64, kernel_size=(3,3), activation=\"relu\"))\n",
    "model.add(Dropout(rate=0.25))\n",
    "model.add(Flatten())\n",
    "model.add(Dense(256,activation=\"relu\"))\n",
    "model.add(Dropout(rate=0.5))\n",
    "model.add(Dense(43, activation=\"softmax\"))\n",
    "\n",
    "model.compile(loss=\"categorical_crossentropy\", optimizer=\"adam\", metrics=[\"accuracy\"])\n"
   ]
  },
  {
   "cell_type": "markdown",
   "id": "801d4bdf",
   "metadata": {},
   "source": [
    "### Steps 3: Train and validate the model"
   ]
  },
  {
   "cell_type": "code",
   "execution_count": 6,
   "id": "ede1bb00",
   "metadata": {},
   "outputs": [
    {
     "name": "stdout",
     "output_type": "stream",
     "text": [
      "Epoch 1/15\n",
      "981/981 [==============================] - 67s 67ms/step - loss: 1.6663 - accuracy: 0.5827 - val_loss: 0.3764 - val_accuracy: 0.8850\n",
      "Epoch 2/15\n",
      "981/981 [==============================] - 66s 67ms/step - loss: 0.6597 - accuracy: 0.8064 - val_loss: 0.1987 - val_accuracy: 0.9439\n",
      "Epoch 3/15\n",
      "981/981 [==============================] - 69s 70ms/step - loss: 0.4497 - accuracy: 0.8667 - val_loss: 0.1521 - val_accuracy: 0.9649\n",
      "Epoch 4/15\n",
      "981/981 [==============================] - 752s 768ms/step - loss: 0.3748 - accuracy: 0.8898 - val_loss: 0.1397 - val_accuracy: 0.9592\n",
      "Epoch 5/15\n",
      "981/981 [==============================] - 75s 76ms/step - loss: 0.3172 - accuracy: 0.9060 - val_loss: 0.0937 - val_accuracy: 0.9719\n",
      "Epoch 6/15\n",
      "981/981 [==============================] - 54s 55ms/step - loss: 0.2964 - accuracy: 0.9126 - val_loss: 0.1135 - val_accuracy: 0.9647\n",
      "Epoch 7/15\n",
      "981/981 [==============================] - 53s 54ms/step - loss: 0.2822 - accuracy: 0.9172 - val_loss: 0.0892 - val_accuracy: 0.9727\n",
      "Epoch 8/15\n",
      "981/981 [==============================] - 54s 55ms/step - loss: 0.2740 - accuracy: 0.9186 - val_loss: 0.1215 - val_accuracy: 0.9662\n",
      "Epoch 9/15\n",
      "981/981 [==============================] - 56s 57ms/step - loss: 0.2573 - accuracy: 0.9255 - val_loss: 0.0818 - val_accuracy: 0.9749\n",
      "Epoch 10/15\n",
      "981/981 [==============================] - 56s 57ms/step - loss: 0.2423 - accuracy: 0.9288 - val_loss: 0.1427 - val_accuracy: 0.9568\n",
      "Epoch 11/15\n",
      "981/981 [==============================] - 60s 61ms/step - loss: 0.2227 - accuracy: 0.9352 - val_loss: 0.0679 - val_accuracy: 0.9806\n",
      "Epoch 12/15\n",
      "981/981 [==============================] - 60s 61ms/step - loss: 0.2224 - accuracy: 0.9361 - val_loss: 0.1254 - val_accuracy: 0.9628\n",
      "Epoch 13/15\n",
      "981/981 [==============================] - 60s 61ms/step - loss: 0.2202 - accuracy: 0.9358 - val_loss: 0.0675 - val_accuracy: 0.9800\n",
      "Epoch 14/15\n",
      "981/981 [==============================] - 63s 64ms/step - loss: 0.2064 - accuracy: 0.9401 - val_loss: 0.0983 - val_accuracy: 0.9733\n",
      "Epoch 15/15\n",
      "981/981 [==============================] - 61s 63ms/step - loss: 0.2211 - accuracy: 0.9386 - val_loss: 0.0924 - val_accuracy: 0.9732\n"
     ]
    }
   ],
   "source": [
    "epochs = 15\n",
    "history = model.fit(X_train, y_train, batch_size=32, epochs=epochs, validation_data=(X_test, y_test))"
   ]
  },
  {
   "cell_type": "code",
   "execution_count": 7,
   "id": "b7f83144",
   "metadata": {},
   "outputs": [
    {
     "data": {
      "image/png": "[encoded data removed]",
      "text/plain": [
       "<Figure size 432x288 with 1 Axes>"
      ]
     },
     "metadata": {
      "needs_background": "light"
     },
     "output_type": "display_data"
    },
    {
     "data": {
      "image/png": "[encoded data removed]",
      "text/plain": [
       "<Figure size 432x288 with 1 Axes>"
      ]
     },
     "metadata": {
      "needs_background": "light"
     },
     "output_type": "display_data"
    }
   ],
   "source": [
    "#plotting graphs for accuracy \n",
    "plt.figure(0)\n",
    "plt.plot(history.history['accuracy'], label='training accuracy')\n",
    "plt.plot(history.history['val_accuracy'], label='val accuracy')\n",
    "plt.title('Accuracy')\n",
    "plt.xlabel('epochs')\n",
    "plt.ylabel('accuracy')\n",
    "plt.legend()\n",
    "plt.show()\n",
    "plt.figure(1)\n",
    "plt.plot(history.history['loss'], label='training loss')\n",
    "plt.plot(history.history['val_loss'], label='val loss')\n",
    "plt.title('Loss')\n",
    "plt.xlabel('epochs')\n",
    "plt.ylabel('loss')\n",
    "plt.legend()\n",
    "plt.show()"
   ]
  },
  {
   "cell_type": "code",
   "execution_count": 8,
   "id": "96c39e27",
   "metadata": {},
   "outputs": [
    {
     "name": "stdout",
     "output_type": "stream",
     "text": [
      "395/395 [==============================] - 5s 12ms/step\n"
     ]
    }
   ],
   "source": [
    "#testing accuracy on test dataset\n",
    "from sklearn.metrics import accuracy_score\n",
    "y_test = pd.read_csv('Test.csv')\n",
    "labels = y_test[\"ClassId\"].values\n",
    "imgs = y_test[\"Path\"].values\n",
    "\n",
    "data=[]\n",
    "for img in imgs:\n",
    "    image = Image.open(img)\n",
    "    image = image.resize((30,30))\n",
    "    data.append(np.array(image))\n",
    "X_test=np.array(data)\n",
    "\n",
    "predict_x=model.predict(X_test) \n",
    "classes_x=np.argmax(predict_x,axis=1)\n"
   ]
  },
  {
   "cell_type": "code",
   "execution_count": 9,
   "id": "5bac7dff",
   "metadata": {},
   "outputs": [
    {
     "name": "stdout",
     "output_type": "stream",
     "text": [
      "0.9258907363420428\n"
     ]
    }
   ],
   "source": [
    "#Accuracy with the test data\n",
    "from sklearn.metrics import accuracy_score\n",
    "print(accuracy_score(labels, classes_x))"
   ]
  },
  {
   "cell_type": "code",
   "execution_count": 11,
   "id": "99693feb",
   "metadata": {},
   "outputs": [],
   "source": [
    "model.save('traffic_classifier.h5')"
   ]
  },
  {
   "cell_type": "code",
   "execution_count": null,
   "id": "63db9570",
   "metadata": {},
   "outputs": [],
   "source": []
  }
 ],
 "metadata": {
  "kernelspec": {
   "display_name": "Python 3 (ipykernel)",
   "language": "python",
   "name": "python3"
  },
  "language_info": {
   "codemirror_mode": {
    "name": "ipython",
    "version": 3
   },
   "file_extension": ".py",
   "mimetype": "text/x-python",
   "name": "python",
   "nbconvert_exporter": "python",
   "pygments_lexer": "ipython3",
   "version": "3.9.0"
  }
 },
 "nbformat": 4,
 "nbformat_minor": 5
}
